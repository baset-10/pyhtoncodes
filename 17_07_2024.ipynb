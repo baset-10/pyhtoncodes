{
 "cells": [
  {
   "cell_type": "code",
   "execution_count": 3,
   "id": "81ac07ae-0545-40f4-ad81-04b7c8e57d11",
   "metadata": {},
   "outputs": [
    {
     "name": "stdout",
     "output_type": "stream",
     "text": [
      "my name is baset\n"
     ]
    }
   ],
   "source": [
    "print(\"my name is baset\")"
   ]
  },
  {
   "cell_type": "code",
   "execution_count": 5,
   "id": "b2d54b49-75a0-494b-9036-fc540ce65e6f",
   "metadata": {},
   "outputs": [],
   "source": [
    "a = \"I am baset\""
   ]
  },
  {
   "cell_type": "code",
   "execution_count": 9,
   "id": "5c076179-9a15-4eb4-9920-be3147c2a384",
   "metadata": {},
   "outputs": [
    {
     "name": "stdout",
     "output_type": "stream",
     "text": [
      "I am baset\n"
     ]
    }
   ],
   "source": [
    "print(a)"
   ]
  },
  {
   "cell_type": "code",
   "execution_count": 25,
   "id": "01eaa2dc-19a1-4fc3-aa04-41aa04d39e7e",
   "metadata": {},
   "outputs": [
    {
     "name": "stdout",
     "output_type": "stream",
     "text": [
      "<class 'int'>\n",
      "<class 'float'>\n",
      "9.1\n",
      "<class 'float'>\n",
      "14.2\n",
      "<class 'float'>\n"
     ]
    }
   ],
   "source": [
    "a = 2\n",
    "b = 7.1\n",
    "print(type (a))\n",
    "print (type (b))\n",
    "c = a + b\n",
    "print (c)\n",
    "print (type (c))\n",
    "d = a * b\n",
    "print (d)\n",
    "print (type (d))"
   ]
  },
  {
   "cell_type": "code",
   "execution_count": 37,
   "id": "b03362a2-45e0-4c8b-bd58-d6ecee196c50",
   "metadata": {},
   "outputs": [
    {
     "name": "stdout",
     "output_type": "stream",
     "text": [
      "18.0\n",
      "<class 'float'>\n"
     ]
    }
   ],
   "source": [
    "b = 18\n",
    "n = float(b)\n",
    "print (n)\n",
    "print (type (n))"
   ]
  },
  {
   "cell_type": "code",
   "execution_count": 47,
   "id": "2c1c7369-6c86-450a-97cf-5f5ac96bb8c6",
   "metadata": {},
   "outputs": [
    {
     "name": "stdout",
     "output_type": "stream",
     "text": [
      "baset 2\n"
     ]
    }
   ],
   "source": [
    "a  = \"baset\"\n",
    "b = str(2)\n",
    "c = a +\" \"+ b\n",
    "print(c)\n"
   ]
  },
  {
   "cell_type": "code",
   "execution_count": null,
   "id": "493fc91a-e39c-4024-8930-68d89bc76459",
   "metadata": {},
   "outputs": [],
   "source": []
  }
 ],
 "metadata": {
  "kernelspec": {
   "display_name": "Python 3 (ipykernel)",
   "language": "python",
   "name": "python3"
  },
  "language_info": {
   "codemirror_mode": {
    "name": "ipython",
    "version": 3
   },
   "file_extension": ".py",
   "mimetype": "text/x-python",
   "name": "python",
   "nbconvert_exporter": "python",
   "pygments_lexer": "ipython3",
   "version": "3.12.4"
  }
 },
 "nbformat": 4,
 "nbformat_minor": 5
}
